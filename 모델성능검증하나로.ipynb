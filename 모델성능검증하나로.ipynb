{
 "cells": [
  {
   "cell_type": "code",
   "execution_count": 8,
   "metadata": {},
   "outputs": [],
   "source": [
    "# 마지막 광물 \n",
    "from tensorflow.keras.models import Sequential\n",
    "from tensorflow.keras.layers import Dense\n",
    "from sklearn.model_selection import KFold\n",
    "from sklearn.metrics import accuracy_score\n",
    "import pandas as pd"
   ]
  },
  {
   "cell_type": "code",
   "execution_count": 9,
   "metadata": {},
   "outputs": [],
   "source": [
    "# !git clone https://github.com/taehojo/data.git"
   ]
  },
  {
   "cell_type": "code",
   "execution_count": 15,
   "metadata": {},
   "outputs": [
    {
     "name": "stdout",
     "output_type": "stream",
     "text": [
      "WARNING:tensorflow:6 out of the last 11 calls to <function Model.make_test_function.<locals>.test_function at 0x00000257959F3670> triggered tf.function retracing. Tracing is expensive and the excessive number of tracings could be due to (1) creating @tf.function repeatedly in a loop, (2) passing tensors with different shapes, (3) passing Python objects instead of tensors. For (1), please define your @tf.function outside of the loop. For (2), @tf.function has reduce_retracing=True option that can avoid unnecessary retracing. For (3), please refer to https://www.tensorflow.org/guide/function#controlling_retracing and https://www.tensorflow.org/api_docs/python/tf/function for  more details.\n",
      "2/2 [==============================] - 0s 0s/step - loss: 0.5898 - accuracy: 0.8095\n",
      "정확도: [0.8095238208770752]\n",
      "정확도 평균: 0.16190476417541505\n",
      "2/2 [==============================] - 0s 15ms/step - loss: 0.6861 - accuracy: 0.7381\n",
      "정확도: [0.8095238208770752, 0.738095223903656]\n",
      "정확도 평균: 0.30952380895614623\n",
      "2/2 [==============================] - 0s 0s/step - loss: 0.8777 - accuracy: 0.7857\n",
      "정확도: [0.8095238208770752, 0.738095223903656, 0.7857142686843872]\n",
      "정확도 평균: 0.4666666626930237\n",
      "2/2 [==============================] - 0s 1ms/step - loss: 0.8393 - accuracy: 0.7561\n",
      "정확도: [0.8095238208770752, 0.738095223903656, 0.7857142686843872, 0.7560975551605225]\n",
      "정확도 평균: 0.6178861737251282\n",
      "2/2 [==============================] - 0s 0s/step - loss: 0.2576 - accuracy: 0.8780\n",
      "정확도: [0.8095238208770752, 0.738095223903656, 0.7857142686843872, 0.7560975551605225, 0.8780487775802612]\n",
      "정확도 평균: 0.7934959292411804\n"
     ]
    }
   ],
   "source": [
    "df = pd.read_csv('./data/sonar3.csv', header=None)\n",
    "\n",
    "X=df.iloc[:,0:60]\n",
    "y=df.iloc[:,60]\n",
    "\n",
    "k = 5\n",
    "\n",
    "kf = KFold(n_splits=k, shuffle=True)\n",
    "\n",
    "acc_score = []\n",
    "\n",
    "def model_fn():\n",
    "    model = Sequential()\n",
    "    model.add(Dense(24, input_dim=60, activation='relu'))\n",
    "    model.add(Dense(10, activation = 'relu'))\n",
    "    model.add(Dense(1, activation='sigmoid'))\n",
    "    return model\n",
    "\n",
    "for train_index, test_index in kf.split(X):\n",
    "    x_train, x_test = X.iloc[train_index,:], X.iloc[test_index,:]\n",
    "    y_train, y_test = y.iloc[train_index], y.iloc[test_index]\n",
    "    #split()에 의해 k개의 학습셋, 테스트셋으로 분리되며 for문에 의해 k번 반복\n",
    "\n",
    "    model = model_fn()\n",
    "    model.compile(loss='binary_crossentropy', optimizer='adam', metrics=['accuracy'])\n",
    "    history = model.fit(x_train,y_train,epochs=200, batch_size=10, verbose=0)\n",
    "\n",
    "    accuracy = model.evaluate(x_test,y_test)[1]\n",
    "    acc_score.append(accuracy)\n",
    "\n",
    "    acc_score_avg = sum(acc_score) / k \n",
    "\n",
    "    print('정확도:', acc_score)\n",
    "    print('정확도 평균:', acc_score_avg)"
   ]
  },
  {
   "attachments": {
    "image.png": {
     "image/png": "[encoded data removed]"
    }
   },
   "cell_type": "markdown",
   "metadata": {},
   "source": [
    "![image.png](attachment:image.png)"
   ]
  },
  {
   "attachments": {
    "image.png": {
     "image/png": "[encoded data removed]"
    }
   },
   "cell_type": "markdown",
   "metadata": {},
   "source": [
    "![image.png](attachment:image.png)"
   ]
  },
  {
   "cell_type": "markdown",
   "metadata": {},
   "source": []
  }
 ],
 "metadata": {
  "kernelspec": {
   "display_name": "ai2",
   "language": "python",
   "name": "python3"
  },
  "language_info": {
   "codemirror_mode": {
    "name": "ipython",
    "version": 3
   },
   "file_extension": ".py",
   "mimetype": "text/x-python",
   "name": "python",
   "nbconvert_exporter": "python",
   "pygments_lexer": "ipython3",
   "version": "3.8.19"
  }
 },
 "nbformat": 4,
 "nbformat_minor": 2
}
